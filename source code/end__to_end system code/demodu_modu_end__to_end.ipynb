{
  "nbformat": 4,
  "nbformat_minor": 0,
  "metadata": {
    "colab": {
      "name": "demodu_modu_end _to_end.ipynb",
      "provenance": [],
      "collapsed_sections": []
    },
    "kernelspec": {
      "name": "python3",
      "display_name": "Python 3"
    }
  },
  "cells": [
    {
      "cell_type": "code",
      "metadata": {
        "id": "16J6xfcKWTS4",
        "colab_type": "code",
        "colab": {
          "base_uri": "https://localhost:8080/",
          "height": 34
        },
        "outputId": "afc45d73-6176-494a-8df2-69b38629b0f0"
      },
      "source": [
        "#!/usr/bin/python\n",
        "# coding = utf-8\n",
        "\n",
        "import numpy as np\n",
        "from keras import metrics, regularizers, backend\n",
        "from keras.utils import np_utils\n",
        "from keras.models import Model\n",
        "from keras.layers import Input, Dense\n",
        "from keras.callbacks import EarlyStopping, ModelCheckpoint\n",
        "import numpy as np\n",
        "import tensorflow as tf\n",
        "import random as rn\n",
        "import os\n",
        "import json\n",
        "import numpy as np\n",
        "import matplotlib.pyplot as plt\n",
        "from keras import metrics, regularizers, optimizers, backend\n",
        "from keras.callbacks import TensorBoard, EarlyStopping\n",
        "from keras.models import Model\n",
        "from keras.layers import Input, Dense, Dropout, BatchNormalization, Conv2D, Flatten, pooling\n",
        "from keras.utils import np_utils, vis_utils\n",
        "from keras import metrics, regularizers, optimizers, backend\n",
        "from keras.callbacks import TensorBoard, EarlyStopping\n",
        "from keras.models import Model\n",
        "from keras.layers import Input, Dense, LSTM, CuDNNLSTM, Flatten, Dropout, BatchNormalization\n",
        "from keras.utils import np_utils, vis_utils\n",
        "from keras.models import load_model\n",
        "import scipy.io as sio"
      ],
      "execution_count": 1,
      "outputs": [
        {
          "output_type": "stream",
          "text": [
            "Using TensorFlow backend.\n"
          ],
          "name": "stderr"
        }
      ]
    },
    {
      "cell_type": "code",
      "metadata": {
        "id": "koLPurz9YH0v",
        "colab_type": "code",
        "colab": {}
      },
      "source": [
        "#端到端调制识别与解调模型定义\n",
        "#xTest 信号数据集\n",
        "   #cumulant 高阶累积量 9个维度\n",
        "   #传入AI模型 调制识别模型 model_modulation\n",
        "   #QPSK解调模型 model_psk4\n",
        "   #8psk解调模型  model_psk8\n",
        "   #16QAM解调模型  model_qam16\n",
        "   #NFeature 9高阶累积量特征个数为9\n",
        "   # return yTest_demodulation 返回的是解调后的数据集\n",
        "   #对输入xTest的每一行序列进行调制识别和按照识别出来的类型送入相应AI解调模型进行解调\n",
        "   #对这一行序列输出每个类型QPSK 1 16QAM 2 8PSK 0的概率，看那个最大\n",
        "def EndToEnd_Demodulation(xTest,cumulant,model_modulation,model_psk4,model_psk8,model_qam16):\n",
        "   yPredict_type = model_modulation.predict(cumulant);\n",
        "   y_Test = np.zeros((xTest.shape[0], xTest.shape[1]));\n",
        "   for i in range(xTest.shape[0]):\n",
        "       P_type=int(np.argmax(yPredict_type[i])); \n",
        "       if P_type == 0 :\n",
        "            #取得xTest的第i行\n",
        "            b=xTest[i]\n",
        "            #对于行向量进行升维度从（，）二维变三维 变为（1，，）\n",
        "            b=b[None,:,:]\n",
        "            #print(b.shape)\n",
        "            #预测得到这一行的码元概率\n",
        "            a=model_psk8.predict(b);\n",
        "            for j in range(a.shape[1]):\n",
        "                y_Test[i][j] = int(np.argmax(a[0][j]))\n",
        "       elif P_type== 1:\n",
        "            #取得xTest的第i行\n",
        "            b=xTest[i]\n",
        "            #对于行向量进行升维度从（，）二维变三维 变为（1，，）\n",
        "            b=b[None,:,:]\n",
        "            #print(b.shape)\n",
        "            #预测得到这一行的码元概率\n",
        "            a=model_psk4.predict(b);\n",
        "            for j in range(a.shape[1]):\n",
        "                y_Test[i][j] = int(np.argmax(a[0][j]))\n",
        "       elif P_type == 2:\n",
        "            #取得xTest的第i行\n",
        "            b=xTest[i]\n",
        "            #对于行向量进行升维度从（，）二维变三维 变为（1，，）\n",
        "            b=b[None,:,:]\n",
        "            #print(b.shape)\n",
        "            #预测得到这一行的码元概率\n",
        "            a=model_qam16.predict(b);\n",
        "            for j in range(a.shape[1]):\n",
        "                y_Test[i][j] = int(np.argmax(a[0][j]))\n",
        "   return y_Test"
      ],
      "execution_count": 0,
      "outputs": []
    },
    {
      "cell_type": "code",
      "metadata": {
        "id": "CILcVKToxa10",
        "colab_type": "code",
        "colab": {
          "base_uri": "https://localhost:8080/",
          "height": 134
        },
        "outputId": "0ab893ba-01a5-4901-c912-1936e6d85953"
      },
      "source": [
        "yPredict"
      ],
      "execution_count": 121,
      "outputs": [
        {
          "output_type": "execute_result",
          "data": {
            "text/plain": [
              "array([[3., 0., 0., ..., 1., 1., 1.],\n",
              "       [2., 0., 2., ..., 2., 3., 3.],\n",
              "       [1., 0., 0., ..., 3., 1., 3.],\n",
              "       ...,\n",
              "       [0., 1., 2., ..., 0., 2., 1.],\n",
              "       [2., 2., 0., ..., 3., 3., 0.],\n",
              "       [2., 2., 0., ..., 1., 3., 1.]])"
            ]
          },
          "metadata": {
            "tags": []
          },
          "execution_count": 121
        }
      ]
    },
    {
      "cell_type": "code",
      "metadata": {
        "id": "j0IvjGSc3Fzh",
        "colab_type": "code",
        "colab": {
          "base_uri": "https://localhost:8080/",
          "height": 134
        },
        "outputId": "0b109139-60da-4bbe-8c9e-d86c60a4e05a"
      },
      "source": [
        "yTest"
      ],
      "execution_count": 125,
      "outputs": [
        {
          "output_type": "execute_result",
          "data": {
            "text/plain": [
              "array([[3, 3, 0, ..., 2, 3, 0],\n",
              "       [2, 0, 1, ..., 2, 2, 0],\n",
              "       [2, 1, 3, ..., 1, 0, 0],\n",
              "       ...,\n",
              "       [0, 1, 2, ..., 0, 2, 1],\n",
              "       [2, 2, 0, ..., 3, 3, 0],\n",
              "       [2, 2, 0, ..., 1, 3, 1]], dtype=uint8)"
            ]
          },
          "metadata": {
            "tags": []
          },
          "execution_count": 125
        }
      ]
    },
    {
      "cell_type": "code",
      "metadata": {
        "id": "AqMmRfVyXl5Y",
        "colab_type": "code",
        "colab": {
          "base_uri": "https://localhost:8080/",
          "height": 134
        },
        "outputId": "218135fa-9c9c-4f52-88ad-15ddd3845998"
      },
      "source": [
        "    #载入必要的4PSK信号数据 -10db-20db\n",
        "    #信号序列的列数\n",
        "    N=100\n",
        "    LOW = -10\n",
        "    HIGH = 20\n",
        "    GAP = 2\n",
        "    #信号序列的行数\n",
        "    NTest = 100\n",
        "    #信号序列的列数\n",
        "    L=100\n",
        "    model_modulation = load_model('modulationModel.h5')\n",
        "    model_psk4 = load_model('QPSKDemodulationModel.h5')\n",
        "    model_psk8 = load_model('8PSKDemodulationModel.h5')\n",
        "    model_qam16 = load_model('16QAMDemodulationModel.h5')\n",
        "    #得到计算好的4PSK高阶累积量\n",
        "    cumulant_psk4 = np.loadtxt('./test_cumulant_psk4.csv', delimiter = ',', dtype = float)\n",
        "    test_data_full = sio.loadmat('test_data_demodulation_psk4.mat')\n",
        "    test_data =test_data_full['test_data_demodulation_psk4']\n",
        "\n",
        "    test_data_real = test_data.real\n",
        "    test_data_imag = test_data.imag\n",
        "    #x_data_real = x_data_real.reshape((1000,100))\n",
        "    #x_data_imag = x_data_imag.reshape((1000,100))\n",
        "    test_data_re = np.stack((test_data_real, test_data_imag), axis=2)\n",
        "    xTest = test_data_re[:,0:N]\n",
        "    yTest_full=sio.loadmat('test_label_demodulation_psk4.mat')\n",
        "    yTest= yTest_full['test_label_demodulation_psk4']\n",
        "    yTest.astype(int)"
      ],
      "execution_count": 132,
      "outputs": [
        {
          "output_type": "execute_result",
          "data": {
            "text/plain": [
              "array([[3, 3, 0, ..., 2, 3, 0],\n",
              "       [2, 0, 1, ..., 2, 2, 0],\n",
              "       [2, 1, 3, ..., 1, 0, 0],\n",
              "       ...,\n",
              "       [0, 1, 2, ..., 0, 2, 1],\n",
              "       [2, 2, 0, ..., 3, 3, 0],\n",
              "       [2, 2, 0, ..., 1, 3, 1]])"
            ]
          },
          "metadata": {
            "tags": []
          },
          "execution_count": 132
        }
      ]
    },
    {
      "cell_type": "code",
      "metadata": {
        "id": "gHHQXFSWuY-5",
        "colab_type": "code",
        "colab": {}
      },
      "source": [
        "#将信号输入端到端的调制识别与解调模型\n",
        "\n",
        "#对输入的4psk信号进行调制识别与解调\n",
        "yPredict=EndToEnd_Demodulation(xTest,cumulant_psk4,model_modulation,model_psk4,model_psk8,model_qam16)\n",
        " "
      ],
      "execution_count": 0,
      "outputs": []
    },
    {
      "cell_type": "code",
      "metadata": {
        "id": "QzV-ZWyi1wTU",
        "colab_type": "code",
        "colab": {
          "base_uri": "https://localhost:8080/",
          "height": 295
        },
        "outputId": "44f044e0-e9b1-4d78-b1d6-4a6f1f24c594"
      },
      "source": [
        "#解调得到的数据和 原本的标签正例数据进行比较，计算出正确率\n",
        "    predict_curve = np.zeros((2, int((HIGH-LOW)/GAP) + 1)) # snr + Pc\n",
        "\n",
        "     #第一个for循环得到x轴的刻度\n",
        "    for i in range(predict_curve.shape[1]): # snr - [-10 -8 ... 18 20]\n",
        "        predict_curve[0, i] = LOW + GAP * i\n",
        "    #不同信噪比的信号 预测正确的个数\n",
        "    for i in range(test_data_re.shape[0]): \n",
        "        snr_loc = int((test_data_re[i, L,0] - LOW)/GAP);\n",
        "        for j in range(L):\n",
        "          #print(yTest[i,j])\n",
        "          #print(int(np.argmax(yPredict[i,j])))\n",
        "          if yTest[i,j] == int(yPredict[i,j]):\n",
        "            continue\n",
        "          else:\n",
        "            break\n",
        "        #print(j)\n",
        "        if j == L-1 :\n",
        "          predict_curve[1, snr_loc] = predict_curve[1, snr_loc] + 1\n",
        "    #不同信噪比预测正确的百分比，结果应该为噪声越大，预测准确率越低，信噪比越高，预测准确率越高\n",
        "    for i in range(predict_curve.shape[1]): \n",
        "        predict_curve[1, i] = predict_curve[1, i]/(NTest)\n",
        "    \n",
        "    #输入测试集计算预测的准确性，可以看到snr 在10b之下的时候，由于噪声过大，模型解调正确率很低\n",
        "    #当SNR大于等于10db的时候，模型接近百分之百预测正确信号的解调\n",
        "    plt.plot(predict_curve[0], predict_curve[1], 'o-')\n",
        "\n",
        "    plt.grid(True)\n",
        "    #plt.legend(loc='lower right')\n",
        "    plt.xlim((LOW, HIGH))\n",
        "    plt.ylim((0,1))\n",
        "    plt.xlabel('SNR(dB)')\n",
        "    plt.ylabel('Pc')\n",
        "    plt.title('QPSK End to End Modulation-Classification-Demodulation Prediction Accuracy')\n",
        "    plt.savefig('QPSK_End_to_End_Modulation_Classification_Demodulation_accuracy.png', format='png')"
      ],
      "execution_count": 134,
      "outputs": [
        {
          "output_type": "display_data",
          "data": {
            "image/png": "[encoded data removed]",
            "text/plain": [
              "<Figure size 432x288 with 1 Axes>"
            ]
          },
          "metadata": {
            "tags": [],
            "needs_background": "light"
          }
        }
      ]
    },
    {
      "cell_type": "code",
      "metadata": {
        "id": "WoFfD9kJ2UpL",
        "colab_type": "code",
        "colab": {
          "base_uri": "https://localhost:8080/",
          "height": 134
        },
        "outputId": "ab358bdc-e26c-4c45-dd1d-9be8d6d70fbd"
      },
      "source": [
        "#载入8psk信号数据-10db-20db\n",
        "#载入必要的4PSK信号数据 -10db-20db\n",
        "    #信号序列的列数\n",
        "    N=100\n",
        "    LOW = -10\n",
        "    HIGH = 20\n",
        "    GAP = 2\n",
        "    #信号序列的行数\n",
        "    NTest = 100\n",
        "    #信号序列的列数\n",
        "    L=100\n",
        "    model_modulation = load_model('modulationModel.h5')\n",
        "    model_psk4 = load_model('QPSKDemodulationModel.h5')\n",
        "    model_psk8 = load_model('8PSKDemodulationModel.h5')\n",
        "    model_qam16 = load_model('16QAMDemodulationModel.h5')\n",
        "    #得到计算好的8PSK高阶累积量\n",
        "    cumulant_psk8 = np.loadtxt('./test_cumulant_psk8.csv', delimiter = ',', dtype = float)\n",
        "    test_data_full = sio.loadmat('test_data_demodulation_psk8.mat')\n",
        "    test_data =test_data_full['test_data_demodulation_psk8']\n",
        "\n",
        "    test_data_real = test_data.real\n",
        "    test_data_imag = test_data.imag\n",
        "    #x_data_real = x_data_real.reshape((1000,100))\n",
        "    #x_data_imag = x_data_imag.reshape((1000,100))\n",
        "    test_data_re = np.stack((test_data_real, test_data_imag), axis=2)\n",
        "    xTest = test_data_re[:,0:N]\n",
        "    yTest_full=sio.loadmat('test_label_demodulation_psk8.mat')\n",
        "    yTest= yTest_full['test_label_demodulation_psk8']\n",
        "    yTest.astype(int)"
      ],
      "execution_count": 135,
      "outputs": [
        {
          "output_type": "execute_result",
          "data": {
            "text/plain": [
              "array([[0, 5, 3, ..., 7, 6, 3],\n",
              "       [2, 2, 3, ..., 7, 2, 6],\n",
              "       [5, 0, 6, ..., 2, 2, 3],\n",
              "       ...,\n",
              "       [4, 2, 6, ..., 6, 5, 1],\n",
              "       [7, 0, 5, ..., 0, 0, 4],\n",
              "       [7, 6, 7, ..., 6, 2, 0]])"
            ]
          },
          "metadata": {
            "tags": []
          },
          "execution_count": 135
        }
      ]
    },
    {
      "cell_type": "code",
      "metadata": {
        "id": "zAPUMuO5B2Qo",
        "colab_type": "code",
        "colab": {}
      },
      "source": [
        "#将8psk信号输入端到端的调制识别与解调模型\n",
        "#对输入的8psk信号进行调制识别与解调\n",
        "yPredict=EndToEnd_Demodulation(xTest,cumulant_psk8,model_modulation,model_psk4,model_psk8,model_qam16)"
      ],
      "execution_count": 0,
      "outputs": []
    },
    {
      "cell_type": "code",
      "metadata": {
        "id": "rTYzU9X-B2W9",
        "colab_type": "code",
        "colab": {
          "base_uri": "https://localhost:8080/",
          "height": 295
        },
        "outputId": "e70e7176-5c4c-48ac-ea31-5c96b39ec4fe"
      },
      "source": [
        "#解调得到的8psk数据和 原本的标签正例数据进行比较，计算出正确率\n",
        "    predict_curve = np.zeros((2, int((HIGH-LOW)/GAP) + 1)) # snr + Pc\n",
        "    for i in range(predict_curve.shape[1]): # snr - [-10 -8 ... 18 20]\n",
        "        predict_curve[0, i] = LOW + GAP * i\n",
        "    #不同信噪比的信号 预测正确的个数\n",
        "    for i in range(test_data_re.shape[0]):\n",
        "        snr_loc = int((test_data_re[i, L,0] - LOW)/GAP);\n",
        "        for j in range(L):\n",
        "          #print(yTest[i,j])\n",
        "          #print(int(np.argmax(yPredict[i,j])))\n",
        "          if yTest[i,j] == int(yPredict[i,j]):\n",
        "            continue\n",
        "          else:\n",
        "            break\n",
        "        #print(j)\n",
        "        if j == L-1 :\n",
        "          predict_curve[1, snr_loc] = predict_curve[1, snr_loc] + 1\n",
        "    #不同信噪比预测正确的百分比，结果应该为噪声越大，预测准确率越低，信噪比越高，预测准确率越高\n",
        "    for i in range(predict_curve.shape[1]): \n",
        "        predict_curve[1, i] = predict_curve[1, i]/(NTest)\n",
        "    \n",
        "    #输入测试集计算预测的准确性，可以看到snr 在10b之下的时候，由于噪声过大，模型解调正确率很低\n",
        "    #当SNR大于等于10db的时候，模型接近百分之百预测正确信号的解调\n",
        "    plt.plot(predict_curve[0], predict_curve[1], 'o-')\n",
        "\n",
        "    plt.grid(True)\n",
        "    #plt.legend(loc='lower right')\n",
        "    plt.xlim((LOW, HIGH))\n",
        "    plt.ylim((0,1))\n",
        "    plt.xlabel('SNR(dB)')\n",
        "    plt.ylabel('Pc')\n",
        "    plt.title('8PSK End to End Modulation-Classification-Demodulation Prediction Accuracy')\n",
        "    plt.savefig('8PSK_End_to_End_Modulation_Classification_Demodulation_accuracy.png', format='png')"
      ],
      "execution_count": 139,
      "outputs": [
        {
          "output_type": "display_data",
          "data": {
            "image/png": "[encoded data removed]",
            "text/plain": [
              "<Figure size 432x288 with 1 Axes>"
            ]
          },
          "metadata": {
            "tags": [],
            "needs_background": "light"
          }
        }
      ]
    },
    {
      "cell_type": "code",
      "metadata": {
        "id": "sExTcCbDB2jg",
        "colab_type": "code",
        "colab": {
          "base_uri": "https://localhost:8080/",
          "height": 134
        },
        "outputId": "2494508e-f5f9-4831-8862-a439c85d8e10"
      },
      "source": [
        "#载入16QAM信号数据20db -44db\n",
        "#载入必要的4PSK信号数据 -10db-20db\n",
        "    #信号序列的列数\n",
        "    N=100\n",
        "    LOW = 20\n",
        "    HIGH = 44\n",
        "    GAP = 2\n",
        "    #信号序列的行数\n",
        "    NTest = 100\n",
        "    #信号序列的列数\n",
        "    L=100\n",
        "    model_modulation = load_model('modulationModel.h5')\n",
        "    model_psk4 = load_model('QPSKDemodulationModel.h5')\n",
        "    model_psk8 = load_model('8PSKDemodulationModel.h5')\n",
        "    model_qam16 = load_model('16QAMDemodulationModel.h5')\n",
        "    #得到计算好的4PSK高阶累积量\n",
        "    cumulant_qam16 = np.loadtxt('./test_cumulant_qam16.csv', delimiter = ',', dtype = float)\n",
        "    test_data_full = sio.loadmat('test_data_demodulation_qam16.mat')\n",
        "    test_data =test_data_full['test_data_demodulation_qam16']\n",
        "\n",
        "    test_data_real = test_data.real\n",
        "    test_data_imag = test_data.imag\n",
        "    #x_data_real = x_data_real.reshape((1000,100))\n",
        "    #x_data_imag = x_data_imag.reshape((1000,100))\n",
        "    test_data_re = np.stack((test_data_real, test_data_imag), axis=2)\n",
        "    xTest = test_data_re[:,0:N]\n",
        "    yTest_full=sio.loadmat('test_label_demodulation_qam16.mat')\n",
        "    yTest= yTest_full['test_label_demodulation_qam16']\n",
        "    yTest.astype(int)"
      ],
      "execution_count": 140,
      "outputs": [
        {
          "output_type": "execute_result",
          "data": {
            "text/plain": [
              "array([[ 9, 10, 11, ...,  3, 13,  5],\n",
              "       [11, 14,  7, ..., 10,  4,  5],\n",
              "       [ 3,  0,  9, ...,  3, 15,  3],\n",
              "       ...,\n",
              "       [ 6, 15, 14, ...,  7,  2,  4],\n",
              "       [ 6, 15,  8, ..., 11, 15,  8],\n",
              "       [ 9,  6, 12, ...,  5, 14,  5]])"
            ]
          },
          "metadata": {
            "tags": []
          },
          "execution_count": 140
        }
      ]
    },
    {
      "cell_type": "code",
      "metadata": {
        "id": "60mlmNdDB2p_",
        "colab_type": "code",
        "colab": {}
      },
      "source": [
        "#将16QAM信号输入端到端的调制识别与解调模型\n",
        "#对输入的16qam信号进行调制识别与解调\n",
        "yPredict=EndToEnd_Demodulation(xTest,cumulant_qam16,model_modulation,model_psk4,model_psk8,model_qam16)"
      ],
      "execution_count": 0,
      "outputs": []
    },
    {
      "cell_type": "code",
      "metadata": {
        "id": "IEiupwWWB2vC",
        "colab_type": "code",
        "colab": {
          "base_uri": "https://localhost:8080/",
          "height": 295
        },
        "outputId": "1028d145-faed-46a5-e9cf-5b9ea237d392"
      },
      "source": [
        "#解调得到的16QAM数据和 原本的标签正例数据进行比较，计算出正确率\n",
        "    predict_curve = np.zeros((2, int((HIGH-LOW)/GAP) + 1)) # snr + Pc\n",
        "    for i in range(predict_curve.shape[1]): # snr - [-10 -8 ... 18 20]\n",
        "        predict_curve[0, i] = LOW + GAP * i\n",
        "    #不同信噪比的信号 预测正确的个数\n",
        "    for i in range(test_data_re.shape[0]): \n",
        "        snr_loc = int((test_data_re[i, L,0] - LOW)/GAP);\n",
        "        for j in range(L):\n",
        "          #print(yTest[i,j])\n",
        "          #print(int(np.argmax(yPredict[i,j])))\n",
        "          if yTest[i,j] == int(yPredict[i,j]):\n",
        "            continue\n",
        "          else:\n",
        "            break\n",
        "        #print(j)\n",
        "        if j == L-1 :\n",
        "          predict_curve[1, snr_loc] = predict_curve[1, snr_loc] + 1\n",
        "    #不同信噪比预测正确的百分比，结果应该为噪声越大，预测准确率越低，信噪比越高，预测准确率越高\n",
        "    for i in range(predict_curve.shape[1]): \n",
        "        predict_curve[1, i] = predict_curve[1, i]/(NTest)\n",
        "    \n",
        "    #输入测试集计算预测的准确性，可以看到snr 在10b之下的时候，由于噪声过大，模型解调正确率很低\n",
        "    #当SNR大于等于10db的时候，模型接近百分之百预测正确信号的解调\n",
        "    plt.plot(predict_curve[0], predict_curve[1], 'o-')\n",
        "\n",
        "    plt.grid(True)\n",
        "    #plt.legend(loc='lower right')\n",
        "    plt.xlim((LOW, HIGH))\n",
        "    plt.ylim((0,1))\n",
        "    plt.xlabel('SNR(dB)')\n",
        "    plt.ylabel('Pc')\n",
        "    plt.title('16QAM End to End Modulation-Classification-Demodulation Prediction Accuracy')\n",
        "    plt.savefig('16QAM_End_to_End_Modulation_Classification_Demodulation_accuracy.png', format='png')"
      ],
      "execution_count": 142,
      "outputs": [
        {
          "output_type": "display_data",
          "data": {
            "image/png": "[encoded data removed]",
            "text/plain": [
              "<Figure size 432x288 with 1 Axes>"
            ]
          },
          "metadata": {
            "tags": [],
            "needs_background": "light"
          }
        }
      ]
    },
    {
      "cell_type": "code",
      "metadata": {
        "id": "WcDDFK3yq184",
        "colab_type": "code",
        "colab": {
          "base_uri": "https://localhost:8080/",
          "height": 151
        },
        "outputId": "759ce0e3-f3f8-444b-b751-139b2cb8bf3d"
      },
      "source": [
        "cumulant_psk4 = cumulant_psk4[:,0:9]\n",
        "yPredict_type = model_modulation.predict(cumulant_psk4);\n",
        "print(np.argmax(yPredict_type[1599]))\n",
        "y_Test"
      ],
      "execution_count": 30,
      "outputs": [
        {
          "output_type": "stream",
          "text": [
            "1\n"
          ],
          "name": "stdout"
        },
        {
          "output_type": "execute_result",
          "data": {
            "text/plain": [
              "array([[3., 0., 0., ..., 1., 1., 1.],\n",
              "       [2., 0., 2., ..., 2., 3., 3.],\n",
              "       [1., 0., 0., ..., 3., 1., 3.],\n",
              "       ...,\n",
              "       [0., 1., 2., ..., 0., 2., 1.],\n",
              "       [2., 2., 0., ..., 3., 3., 0.],\n",
              "       [2., 2., 0., ..., 1., 3., 1.]])"
            ]
          },
          "metadata": {
            "tags": []
          },
          "execution_count": 30
        }
      ]
    },
    {
      "cell_type": "code",
      "metadata": {
        "id": "bcA_dzwL51h5",
        "colab_type": "code",
        "colab": {
          "base_uri": "https://localhost:8080/",
          "height": 34
        },
        "outputId": "83960a27-7648-4cc4-f3c4-7accfeb6d5f7"
      },
      "source": [
        "y_Test.shape"
      ],
      "execution_count": 58,
      "outputs": [
        {
          "output_type": "execute_result",
          "data": {
            "text/plain": [
              "(1600, 100)"
            ]
          },
          "metadata": {
            "tags": []
          },
          "execution_count": 58
        }
      ]
    },
    {
      "cell_type": "code",
      "metadata": {
        "id": "kIJjkk84ph35",
        "colab_type": "code",
        "colab": {}
      },
      "source": [
        "yPredict_type = model_modulation.predict(cumulant_psk4);\n",
        "\n",
        "y_Test = np.zeros((xTest.shape[0], xTest.shape[1]));\n",
        "\n",
        "a=model_psk4.predict(xTest);\n",
        "for i in range(xTest.shape[0]):\n",
        "    for j in range(a.shape[1]):\n",
        "        y_Test[i][j] = np.argmax(a[0][j])"
      ],
      "execution_count": 0,
      "outputs": []
    },
    {
      "cell_type": "code",
      "metadata": {
        "id": "MQvdPaoN7JJ-",
        "colab_type": "code",
        "colab": {}
      },
      "source": [
        "b=xTest[0]\n",
        "\n"
      ],
      "execution_count": 0,
      "outputs": []
    },
    {
      "cell_type": "code",
      "metadata": {
        "id": "vg-5S_4z74dG",
        "colab_type": "code",
        "colab": {
          "base_uri": "https://localhost:8080/",
          "height": 34
        },
        "outputId": "8033c0df-5a6f-4499-f004-9b1d5e4d1cf3"
      },
      "source": [
        "b=b[None,:,:]\n",
        "b.shape"
      ],
      "execution_count": 101,
      "outputs": [
        {
          "output_type": "execute_result",
          "data": {
            "text/plain": [
              "(1, 100, 2)"
            ]
          },
          "metadata": {
            "tags": []
          },
          "execution_count": 101
        }
      ]
    },
    {
      "cell_type": "code",
      "metadata": {
        "id": "fQWNbhHXnEDO",
        "colab_type": "code",
        "colab": {}
      },
      "source": [
        "y_Test = np.zeros((xTest.shape[0], xTest.shape[1]));"
      ],
      "execution_count": 0,
      "outputs": []
    },
    {
      "cell_type": "code",
      "metadata": {
        "id": "nAg29koZ9JM_",
        "colab_type": "code",
        "colab": {
          "base_uri": "https://localhost:8080/",
          "height": 34
        },
        "outputId": "ffdb508e-73f6-4329-b2b0-a0c3894435d7"
      },
      "source": [
        "a=model_psk4.predict(b);\n",
        "\n",
        "print(b.shape)"
      ],
      "execution_count": 102,
      "outputs": [
        {
          "output_type": "stream",
          "text": [
            "(1, 100, 4)\n"
          ],
          "name": "stdout"
        }
      ]
    },
    {
      "cell_type": "code",
      "metadata": {
        "id": "reFMMvd4Bl0r",
        "colab_type": "code",
        "colab": {}
      },
      "source": [
        "i=0\n",
        "for j in range(a.shape[1]):\n",
        "    y_Test[i][j] = np.argmax(a[i][j])"
      ],
      "execution_count": 0,
      "outputs": []
    },
    {
      "cell_type": "code",
      "metadata": {
        "id": "hXPzMec_nfip",
        "colab_type": "code",
        "colab": {
          "base_uri": "https://localhost:8080/",
          "height": 50
        },
        "outputId": "a9849823-c4de-4d17-b4f4-d9b0a392244a"
      },
      "source": [
        "a[0,3]"
      ],
      "execution_count": 68,
      "outputs": [
        {
          "output_type": "execute_result",
          "data": {
            "text/plain": [
              "array([2.2745896e-04, 1.9879304e-03, 9.9531364e-01, 2.4709080e-03],\n",
              "      dtype=float32)"
            ]
          },
          "metadata": {
            "tags": []
          },
          "execution_count": 68
        }
      ]
    },
    {
      "cell_type": "code",
      "metadata": {
        "id": "JK6f0QRvnhAJ",
        "colab_type": "code",
        "colab": {}
      },
      "source": [
        ""
      ],
      "execution_count": 0,
      "outputs": []
    }
  ]
}